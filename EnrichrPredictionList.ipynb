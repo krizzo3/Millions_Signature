{
 "cells": [
  {
   "cell_type": "code",
   "execution_count": 1,
   "metadata": {},
   "outputs": [],
   "source": [
    "#Import statements\n",
    "import os\n",
    "import json\n",
    "import requests\n",
    "import csv\n",
    "import pandas as pd\n",
    "import array\n",
    "import numpy as np\n",
    "import re\n",
    "import time\n",
    "import urllib"
   ]
  },
  {
   "cell_type": "code",
   "execution_count": 2,
   "metadata": {},
   "outputs": [
    {
     "name": "stdout",
     "output_type": "stream",
     "text": [
      "17: GO_Molecular_Function_2018.txt\n",
      "Got here\n"
     ]
    }
   ],
   "source": [
    "#Reads in text file and makes predictions for each geneset in library\n",
    "    #Then these predictions are writen to a new file\n",
    "allLibraries = os.listdir('/Users/maayan/Documents/jupyter/PredictionsLists/libraries')\n",
    "for filename in allLibraries:\n",
    "    print(str(i) + ': ' + filename)\n",
    "    i += 1\n",
    "    file = open('libraries/' + filename, 'r')\n",
    "    lines = file.readlines()\n",
    "    dictLib = {}\n",
    "    path = '/Users/maayan/Documents/jupyter/PredictionsLists/PredictionTSVs/EnrichrPredictions/Enrichr_%s.tsv' % (filename[0:len(filename)-4] + '_Predictions_Enrichr_Cooccurrence')\n",
    "    newFile = open(path, 'w')\n",
    "    for line in lines:\n",
    "        lineSplit = line.strip().split('\\t')\n",
    "        geneList = lineSplit[2:]\n",
    "        geneList = [x for x in geneList if not '/' in x]\n",
    "        geneList = [re.sub(\",+\\d+\\.*\\d*$\", \"\", x) for x in geneList]\n",
    "        function = lineSplit[0]\n",
    "        baseurl = 'http://amp.pharm.mssm.edu/geneshot/api/associate'\n",
    "        data = {\n",
    "            \"similarity\": \"enrichr\",\n",
    "            \"genes\": geneList\n",
    "        }\n",
    "        \n",
    "        try:\n",
    "            params = json.dumps(data).encode('utf8')\n",
    "            req = urllib.request.Request(baseurl, data=params, headers={'content-type': 'application/json'})\n",
    "            response = urllib.request.urlopen(req)\n",
    "        except:\n",
    "            params = json.dumps(data).encode('utf8')\n",
    "            req = urllib.request.Request(baseurl, data=params, headers={'content-type': 'application/json'})\n",
    "            response = urllib.request.urlopen(req)\n",
    "\n",
    "        string = response.read().decode('utf8')\n",
    "        data2 = json.loads(string)\n",
    "        \n",
    "        predictedList = list(data2['association'].keys())\n",
    "        newFile.write(function + '\\t\\t' + '\\t'.join(predictedList) + '\\n')\n",
    "    print('Got here')\n",
    "    file.close()\n",
    "    newFile.close()"
   ]
  }
 ],
 "metadata": {
  "kernelspec": {
   "display_name": "Python 3",
   "language": "python",
   "name": "python3"
  },
  "language_info": {
   "codemirror_mode": {
    "name": "ipython",
    "version": 3
   },
   "file_extension": ".py",
   "mimetype": "text/x-python",
   "name": "python",
   "nbconvert_exporter": "python",
   "pygments_lexer": "ipython3",
   "version": "3.6.5"
  }
 },
 "nbformat": 4,
 "nbformat_minor": 2
}
